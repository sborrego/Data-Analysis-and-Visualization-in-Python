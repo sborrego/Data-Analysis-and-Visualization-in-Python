{
 "cells": [
  {
   "cell_type": "markdown",
   "metadata": {
    "tags": []
   },
   "source": [
    "## Let's Review\n",
    "\n",
    "### Data Types\n",
    "\n",
    "Single objects data types: **text** - *str*, **numeric** - *int*, *float*, *complex*; and **boolean** - *bool*.\n",
    "\n",
    "### Variables\n",
    "\n",
    "* A variable is a specific, case-sensitive name that serves as a placeholder for another value. \n",
    "* Syntax to assign a variable: `var_name = value`\n",
    "\n",
    "### Lists\n",
    "\n",
    "* Lists are created using square brackets `[]`\n",
    "* Ordered - list items are indexed, the first item has index `[0]`, the second item has index `[1]` and so on\n",
    "* Changeable - list items can be changed, added, and removed \n",
    "* Duplicates -  lists can have items with the same value\n",
    "\n",
    "#### Subsetting\n",
    "\n",
    "* Zero-based indexing\n",
    "* The first element in a list has index 0, the second element has index 1, and so on. You can specifically select elements from your list by using the index value.\n",
    "* Syntax to reference list and specific index value: `my_list[2]`\n",
    "\n",
    "#### Slicing\n",
    "\n",
    "* You can select multiple elements from a list by selecting a range of elements. The result will be a new list of the choosen elements.\n",
    "* `my_list[start:end]`\n",
    "     * **start** index will be included\n",
    "     * **end** index will NOT be included"
   ]
  },
  {
   "cell_type": "markdown",
   "metadata": {},
   "source": [
    "## Quick Topics to Cover\n",
    "\n",
    "#### Making copies\n",
    "\n",
    "   * Creating a copy of a list by assigning a new variable name only makes a reference to the original list\n",
    "   * Any changes made to either reference will change the original list\n",
    "   * Copying a list must be done explicitly so that the actually list, not the reference, is copied.\n",
    "        * `copy_1 = my_list[:]`\n",
    "        * `copy_2 = list(my_list)`\n",
    "        \n",
    "#### Functions\n",
    "\n",
    "* A function is a piece of resuable code that performs a specific task\n",
    "* Examples of functions:\n",
    "    * `type()`\n",
    "    * `del()`\n",
    "    * `str()`\n",
    "    \n",
    "#### Finding Help\n",
    "\n",
    "* `help(round)`\n",
    "* ?round\n",
    "\n",
    "#### Methods\n",
    "\n",
    "* *Objects* are values and data structures in Python. Objects have methods associated, depending on the type of object.\n",
    "* *Methods* are call functions that belong to Python objects. They are used with dot notation. It is important to note that some methods change the object they are called on ... and some don't.\n",
    "    * String\n",
    "        * `capitalize()` - returns a copy of the original string and converts the first character of the string to a capital (uppercase) letter while making all other characters in the string lowercase letters.\n",
    "     * Float\n",
    "         * `bit_length()` - Returns the number of bits necessary to represent an integer in binary, excluding the sign and leading zeros\n",
    "     * List\n",
    "         * `index()` - returns the index of the specified element in the list.\n",
    "            \n",
    "#### Numpy arrays\n",
    "\n",
    "* Subsetting a multidimenional array is similar to subsetting a list. Only now, both rows and columns are indicated.\n",
    "    * `my_array[rows, columns]`"
   ]
  },
  {
   "cell_type": "markdown",
   "metadata": {},
   "source": [
    "### Libraries\n",
    "\n",
    "* A library is a collection of files, or modules, that contains related code for use by other programs.\n",
    "    * May also contain data values (e.g., numerical constants) and other things.\n",
    "* The Python standard library is an extensive suite of modules that comes with Python itself.\n",
    "* [THIS ARTICLE](https://learnpython.com/blog/python-modules-packages-libraries-frameworks/) nicely explains the difference between modules, packages, libraries, and frameworks.\n",
    "* Simplified hierarchy: **modules** -->  **packages** --> **libraries** --> **framework**\n",
    "\n",
    "To use a library, it must be imported into the program's memory. Since it is necessary to write the library name each time a module is used, it helps to assign a common abbreviated name to the library or module. We will use Numpy, and Pandas, and the module [Pyplot](https://matplotlib.org/stable/tutorials/introductory/pyplot.html) from  Matplotlib. \n",
    "\n",
    "* `import numpy as np`\n",
    "* `import pandas as pd`\n",
    "* `import matplotlib.pyplot as plt`"
   ]
  },
  {
   "cell_type": "code",
   "execution_count": 1,
   "metadata": {},
   "outputs": [],
   "source": [
    "# Import the necessary libraries\n",
    "import numpy as np\n",
    "import pandas as pd\n",
    "import matplotlib.pyplot as plt"
   ]
  },
  {
   "cell_type": "markdown",
   "metadata": {},
   "source": [
    "### Plotting with Matplotlib\n",
    "\n",
    "Matplotlib is a common data visualization package in Python. It is used to create static, animated, and interactive visualizations.\n",
    "\n",
    "In the following demonstrations, we will be using the subpackage Pyplot, which is mainly intended for interactive plots and simple cases of programmatic plot generation. Learn more about [Pyplot](https://matplotlib.org/stable/api/_as_gen/matplotlib.pyplot.html) and see [plotting examples](https://matplotlib.org/stable/tutorials/introductory/pyplot.html)"
   ]
  },
  {
   "cell_type": "code",
   "execution_count": 2,
   "metadata": {
    "collapsed": false,
    "jupyter": {
     "outputs_hidden": false
    }
   },
   "outputs": [
    {
     "data": {
      "image/png": "[encoded data removed]",
      "text/plain": [
       "<Figure size 432x288 with 1 Axes>"
      ]
     },
     "metadata": {
      "needs_background": "light"
     },
     "output_type": "display_data"
    }
   ],
   "source": [
    "# Python lists of numbers is provided for both x and y\n",
    "# Lists should always be equal length\n",
    "x = [1, 2, 6, 8]\n",
    "y = [2, 4, 2, 5]\n",
    "\n",
    "# Line plot with four values on x and y axis\n",
    "plt.plot(x, y)\n",
    "\n",
    "# Display plot\n",
    "plt.show()"
   ]
  },
  {
   "cell_type": "code",
   "execution_count": 3,
   "metadata": {
    "collapsed": false,
    "jupyter": {
     "outputs_hidden": false
    }
   },
   "outputs": [
    {
     "data": {
      "image/png": "[encoded data removed]",
      "text/plain": [
       "<Figure size 432x288 with 1 Axes>"
      ]
     },
     "metadata": {
      "needs_background": "light"
     },
     "output_type": "display_data"
    }
   ],
   "source": [
    "# Scatter plot with same data\n",
    "plt.scatter(x, y)\n",
    "plt.show()"
   ]
  },
  {
   "cell_type": "code",
   "execution_count": 4,
   "metadata": {},
   "outputs": [
    {
     "data": {
      "image/png": "[encoded data removed]",
      "text/plain": [
       "<Figure size 432x288 with 1 Axes>"
      ]
     },
     "metadata": {
      "needs_background": "light"
     },
     "output_type": "display_data"
    }
   ],
   "source": [
    "# Bar plot with same data\n",
    "plt.bar(x, y)\n",
    "plt.show()"
   ]
  },
  {
   "cell_type": "code",
   "execution_count": 5,
   "metadata": {
    "collapsed": false,
    "jupyter": {
     "outputs_hidden": false
    }
   },
   "outputs": [
    {
     "data": {
      "image/png": "[encoded data removed]",
      "text/plain": [
       "<Figure size 432x288 with 1 Axes>"
      ]
     },
     "metadata": {
      "needs_background": "light"
     },
     "output_type": "display_data"
    }
   ],
   "source": [
    "# Add labels to the plot\n",
    "\n",
    "# Example plot\n",
    "plt.plot(x, y)\n",
    "\n",
    "# Add plot title\n",
    "plt.title(\"My Title\")\n",
    "\n",
    "# Add X label\n",
    "plt.xlabel(\"My X Axis Label\")\n",
    "\n",
    "# Add Y label\n",
    "plt.ylabel(\"My Y Axis Label\")\n",
    "\n",
    "plt.show()"
   ]
  },
  {
   "cell_type": "markdown",
   "metadata": {},
   "source": [
    "### Read the Docs\n",
    "\n",
    "Reading the documentation of a library, package, and function will help you get the most out of the code you write. You can always search for documentation with Python by using `help()` or `?_______` using the package/function of interest as the agrument. In addition, the internet is a great resource for getting help, [Stack Overflow](www.stackoverflow.com) is an amazing resource."
   ]
  },
  {
   "cell_type": "code",
   "execution_count": 6,
   "metadata": {},
   "outputs": [],
   "source": [
    "# Use a help method to read the docs\n",
    "# help(plt.plot)"
   ]
  },
  {
   "cell_type": "code",
   "execution_count": 7,
   "metadata": {
    "collapsed": false,
    "jupyter": {
     "outputs_hidden": false
    }
   },
   "outputs": [
    {
     "data": {
      "image/png": "[encoded data removed]",
      "text/plain": [
       "<Figure size 432x288 with 1 Axes>"
      ]
     },
     "metadata": {
      "needs_background": "light"
     },
     "output_type": "display_data"
    }
   ],
   "source": [
    "# Double line plot\n",
    "\n",
    "# Line plot data - set 1\n",
    "x = [1, 2, 3]\n",
    "y = [2, 4, 3]\n",
    "\n",
    "# Line plot data - set 2\n",
    "x2 = [1, 2, 3]\n",
    "y2 = [7, 7, 14]\n",
    "\n",
    "# Plot two sets of data\n",
    "plt.plot(x, y, label = \"First Line\")\n",
    "plt.plot(x2, y2, label = \"Second Line\")\n",
    "\n",
    "# Show data\n",
    "plt.show()"
   ]
  },
  {
   "cell_type": "code",
   "execution_count": 8,
   "metadata": {},
   "outputs": [
    {
     "data": {
      "image/png": "[encoded data removed]",
      "text/plain": [
       "<Figure size 432x288 with 1 Axes>"
      ]
     },
     "metadata": {
      "needs_background": "light"
     },
     "output_type": "display_data"
    }
   ],
   "source": [
    "# Add legend and labels to plot\n",
    "\n",
    "# Line plot data - set 1\n",
    "x = [1, 2, 3]\n",
    "y = [2, 4, 3]\n",
    "\n",
    "# Line plot data - set 2\n",
    "x2 = [1, 2, 3]\n",
    "y2 = [7, 7, 14]\n",
    "\n",
    "# Plot two sets of data and provide labels for legend\n",
    "plt.plot(x, y, label = \"First Line\")\n",
    "plt.plot(x2, y2, label = \"Second Line\")\n",
    "\n",
    "# Add title and axis labels\n",
    "plt.xlabel(\"My X Label\")\n",
    "plt.ylabel(\"My Y Label\")\n",
    "plt.title(\"My Two Line Plot\")\n",
    "\n",
    "# Add legend\n",
    "plt.legend(loc = \"center right\")\n",
    "plt.show()"
   ]
  },
  {
   "cell_type": "code",
   "execution_count": 9,
   "metadata": {
    "collapsed": false,
    "jupyter": {
     "outputs_hidden": false
    }
   },
   "outputs": [],
   "source": [
    "# Look at the help page for plot to find characteristics that can be modified\n",
    "\n",
    "# help(plt.plot)\n",
    "# plt.title\n",
    "# ?plt.legend"
   ]
  },
  {
   "cell_type": "code",
   "execution_count": 10,
   "metadata": {
    "tags": []
   },
   "outputs": [
    {
     "data": {
      "image/png": "[encoded data removed]",
      "text/plain": [
       "<Figure size 432x288 with 1 Axes>"
      ]
     },
     "metadata": {
      "needs_background": "light"
     },
     "output_type": "display_data"
    }
   ],
   "source": [
    "# Adding characteristics to line plot\n",
    "plt.plot(x, y, \n",
    "         color = 'hotpink', linestyle = ':', linewidth = 4,\n",
    "         marker = 'o', markerfacecolor = 'white', \n",
    "         markersize = 8)\n",
    "\n",
    "# Indicate labels\n",
    "plt.xlabel(\"Range\")\n",
    "plt.ylabel(\"Data Values\")\n",
    "plt.title(\"Pink Plot\")\n",
    "\n",
    "# Print plot\n",
    "plt.show()"
   ]
  },
  {
   "cell_type": "code",
   "execution_count": 11,
   "metadata": {
    "collapsed": false,
    "jupyter": {
     "outputs_hidden": false
    }
   },
   "outputs": [
    {
     "data": {
      "image/png": "[encoded data removed]",
      "text/plain": [
       "<Figure size 432x288 with 1 Axes>"
      ]
     },
     "metadata": {
      "needs_background": "light"
     },
     "output_type": "display_data"
    }
   ],
   "source": [
    "# Adding characteristics to bar plot\n",
    "\n",
    "# Bar graph data\n",
    "x = [1, 2, 3, 4, 5]\n",
    "y = [20, 40, 30, 15, 60]\n",
    "\n",
    "# Plot bar graph and change color\n",
    "plt.bar(x, y, \n",
    "        width = 0.7, \n",
    "        color = \"skyblue\", edgecolor = \"red\")\n",
    "\n",
    "# Indicate labels\n",
    "plt.xlabel(\"Bars\")\n",
    "plt.ylabel(\"Data Values\")\n",
    "plt.title(\"My Bar Plot\")\n",
    "\n",
    "# Print plot\n",
    "plt.show()\n",
    "\n",
    "# List of colors in matplotlib\n",
    "# https://matplotlib.org/stable/gallery/color/named_colors.html#"
   ]
  },
  {
   "cell_type": "code",
   "execution_count": 12,
   "metadata": {},
   "outputs": [],
   "source": [
    "# ?plt.bar"
   ]
  },
  {
   "cell_type": "markdown",
   "metadata": {},
   "source": [
    "### Histograms\n",
    "\n",
    "* Visualize distribution of data\n",
    "    * `plt.hist()`\n",
    "    * requires `x`, a list of values\n",
    "    * bins how many bins the data should be divided into, default = 10\\\n",
    "* Bins\n",
    "    * Bins are slots in the plot that hold a range of data\n",
    "    * Too few bins will oversimplify the data and won't show you the details\n",
    "    * Too many bins will overcomplicate the data and won't show the bigger picture\n",
    "* Read the docs: `help(plt.hist)`\n"
   ]
  },
  {
   "cell_type": "code",
   "execution_count": 13,
   "metadata": {},
   "outputs": [],
   "source": [
    "# Creating data from Numpy for a histogram\n",
    "\n",
    "# Import numpy\n",
    "import numpy as np\n",
    "\n",
    "# Generates 50 random numbers from 0 to 999\n",
    "np.random.seed(50)\n",
    "rando = np.random.randint(low = 0, high = 1000, size = 50)"
   ]
  },
  {
   "cell_type": "code",
   "execution_count": 14,
   "metadata": {},
   "outputs": [
    {
     "data": {
      "image/png": "[encoded data removed]",
      "text/plain": [
       "<Figure size 432x288 with 1 Axes>"
      ]
     },
     "metadata": {
      "needs_background": "light"
     },
     "output_type": "display_data"
    }
   ],
   "source": [
    "# Change bin number to 5\n",
    "plt.hist(rando, bins = 5, rwidth = 0.5)\n",
    "\n",
    "plt.xlabel('Range of Numbers')\n",
    "plt.ylabel('Number of numbers within bin')\n",
    "\n",
    "plt.title('5 Bin Histogram')\n",
    "\n",
    "plt.show()"
   ]
  },
  {
   "cell_type": "code",
   "execution_count": 15,
   "metadata": {},
   "outputs": [
    {
     "data": {
      "image/png": "[encoded data removed]",
      "text/plain": [
       "<Figure size 432x288 with 1 Axes>"
      ]
     },
     "metadata": {
      "needs_background": "light"
     },
     "output_type": "display_data"
    }
   ],
   "source": [
    "# Change bin number to 10\n",
    "plt.hist(rando, bins = 10, rwidth = 0.5)\n",
    "\n",
    "plt.xlabel('Range of Numbers')\n",
    "plt.ylabel('Number of numbers within bin')\n",
    "\n",
    "plt.title('10 Bin Histogram')\n",
    "\n",
    "plt.show()"
   ]
  },
  {
   "cell_type": "code",
   "execution_count": 16,
   "metadata": {},
   "outputs": [
    {
     "data": {
      "text/plain": [
       "<Figure size 432x288 with 0 Axes>"
      ]
     },
     "metadata": {},
     "output_type": "display_data"
    }
   ],
   "source": [
    "# Clear the current figure\n",
    "# Not relevant here but may be useful in your own work\n",
    "plt.clf()"
   ]
  },
  {
   "cell_type": "code",
   "execution_count": 17,
   "metadata": {},
   "outputs": [],
   "source": [
    "# Import numpy\n",
    "import numpy as np\n",
    "\n",
    "# Generates 50 random numbers from 0 to 99\n",
    "np.random.seed(1150)\n",
    "rando2 = np.random.randint(low = 0, high = 100, size = 5000)"
   ]
  },
  {
   "cell_type": "code",
   "execution_count": 18,
   "metadata": {},
   "outputs": [
    {
     "data": {
      "image/png": "[encoded data removed]",
      "text/plain": [
       "<Figure size 432x288 with 1 Axes>"
      ]
     },
     "metadata": {
      "needs_background": "light"
     },
     "output_type": "display_data"
    }
   ],
   "source": [
    "plt.hist(rando2, bins = 10)\n",
    "plt.yscale(\"log\")\n",
    "plt.show()"
   ]
  },
  {
   "cell_type": "markdown",
   "metadata": {},
   "source": [
    "### Pandas and tabular data\n",
    "\n",
    "* Pandas is a widely used Python library used for performing statistics on tabular data\n",
    "    * 2-dimensional dataframe\n",
    "    * Each row and column is named\n",
    "        * `df.index`\n",
    "        * `df.columns`\n",
    "    * Can contain different types of data\n",
    "    * Columns - observed variables \n",
    "    * Rows - observations values\n",
    "* [Pandas dataframe documentation](https://pandas.pydata.org/pandas-docs/version/0.23/generated/pandas.DataFrame.html)\n",
    "\n",
    "\n",
    "#### Working with Pandas DataFrames\n",
    "\n",
    "* **Attributes** of a class are function objects that define corresponding methods of its instances. They are used to implement access controls of the classes.\n",
    "    * [`T`](https://pandas.pydata.org/pandas-docs/version/0.23/generated/pandas.DataFrame.T.html#pandas.DataFrame.T) - Transpose index and columns.\n",
    "    * [`loc`](https://pandas.pydata.org/pandas-docs/version/0.23/generated/pandas.DataFrame.loc.html#pandas.DataFrame.loc) - Access a group of rows and columns by label(s) or a boolean array.\n",
    "    * [`shape`](https://pandas.pydata.org/pandas-docs/version/0.23/generated/pandas.DataFrame.shape.html#pandas.DataFrame.shape) - Return an int representing the number of elements in this object.\n",
    "* **Methods** are functions that “belongs to” an object.\n",
    "    * [`plot`](https://pandas.pydata.org/pandas-docs/version/0.23/generated/pandas.DataFrame.plot.html#pandas.DataFrame.plot) - alias of pandas.plotting._core.FramePlotMethods\n",
    "    * [`append()`](https://pandas.pydata.org/pandas-docs/version/0.23/generated/pandas.DataFrame.append.html#pandas.DataFrame.append) - append rows of other to the end of this frame, returning a new object.\n",
    "    * [`copy()`](https://pandas.pydata.org/pandas-docs/version/0.23/generated/pandas.DataFrame.copy.html#pandas.DataFrame.copy) - make a copy of this object’s indices and data."
   ]
  },
  {
   "cell_type": "code",
   "execution_count": 19,
   "metadata": {},
   "outputs": [],
   "source": [
    "# Import Pandas - already loaded at the beginning of the script\n",
    "# import pandas as pd"
   ]
  },
  {
   "cell_type": "code",
   "execution_count": 20,
   "metadata": {},
   "outputs": [],
   "source": [
    "# Read a data file from your system and save as a variable\n",
    "\n",
    "# Double check location of \"data\" directory\n",
    "data = pd.read_csv(\"data/gapminder_gdp_oceania.csv\")"
   ]
  },
  {
   "cell_type": "code",
   "execution_count": 21,
   "metadata": {},
   "outputs": [
    {
     "name": "stdout",
     "output_type": "stream",
     "text": [
      "       country  gdpPercap_1952  gdpPercap_1957  gdpPercap_1962  \\\n",
      "0    Australia     10039.59564     10949.64959     12217.22686   \n",
      "1  New Zealand     10556.57566     12247.39532     13175.67800   \n",
      "\n",
      "   gdpPercap_1967  gdpPercap_1972  gdpPercap_1977  gdpPercap_1982  \\\n",
      "0     14526.12465     16788.62948     18334.19751     19477.00928   \n",
      "1     14463.91893     16046.03728     16233.71770     17632.41040   \n",
      "\n",
      "   gdpPercap_1987  gdpPercap_1992  gdpPercap_1997  gdpPercap_2002  \\\n",
      "0     21888.88903     23424.76683     26997.93657     30687.75473   \n",
      "1     19007.19129     18363.32494     21050.41377     23189.80135   \n",
      "\n",
      "   gdpPercap_2007  \n",
      "0     34435.36744  \n",
      "1     25185.00911  \n"
     ]
    }
   ],
   "source": [
    "# Columns are the observed variables (13)\n",
    "# Rows are observations (2)\n",
    "# Row labels on the far left are currently the index value\n",
    "print(data)"
   ]
  },
  {
   "cell_type": "code",
   "execution_count": 22,
   "metadata": {},
   "outputs": [
    {
     "name": "stdout",
     "output_type": "stream",
     "text": [
      "<class 'pandas.core.frame.DataFrame'>\n",
      "RangeIndex: 2 entries, 0 to 1\n",
      "Data columns (total 13 columns):\n",
      " #   Column          Non-Null Count  Dtype  \n",
      "---  ------          --------------  -----  \n",
      " 0   country         2 non-null      object \n",
      " 1   gdpPercap_1952  2 non-null      float64\n",
      " 2   gdpPercap_1957  2 non-null      float64\n",
      " 3   gdpPercap_1962  2 non-null      float64\n",
      " 4   gdpPercap_1967  2 non-null      float64\n",
      " 5   gdpPercap_1972  2 non-null      float64\n",
      " 6   gdpPercap_1977  2 non-null      float64\n",
      " 7   gdpPercap_1982  2 non-null      float64\n",
      " 8   gdpPercap_1987  2 non-null      float64\n",
      " 9   gdpPercap_1992  2 non-null      float64\n",
      " 10  gdpPercap_1997  2 non-null      float64\n",
      " 11  gdpPercap_2002  2 non-null      float64\n",
      " 12  gdpPercap_2007  2 non-null      float64\n",
      "dtypes: float64(12), object(1)\n",
      "memory usage: 336.0+ bytes\n"
     ]
    }
   ],
   "source": [
    "# The row labels are indices\n",
    "# \"RangeIndex: 2 entries, 0 to 1\"\n",
    "data.info()"
   ]
  },
  {
   "cell_type": "code",
   "execution_count": 23,
   "metadata": {},
   "outputs": [
    {
     "name": "stdout",
     "output_type": "stream",
     "text": [
      "(2, 13)\n"
     ]
    }
   ],
   "source": [
    "print(data.shape)"
   ]
  },
  {
   "cell_type": "code",
   "execution_count": 24,
   "metadata": {},
   "outputs": [
    {
     "name": "stdout",
     "output_type": "stream",
     "text": [
      "             gdpPercap_1952  gdpPercap_1957  gdpPercap_1962  gdpPercap_1967  \\\n",
      "country                                                                       \n",
      "Australia       10039.59564     10949.64959     12217.22686     14526.12465   \n",
      "New Zealand     10556.57566     12247.39532     13175.67800     14463.91893   \n",
      "\n",
      "             gdpPercap_1972  gdpPercap_1977  gdpPercap_1982  gdpPercap_1987  \\\n",
      "country                                                                       \n",
      "Australia       16788.62948     18334.19751     19477.00928     21888.88903   \n",
      "New Zealand     16046.03728     16233.71770     17632.41040     19007.19129   \n",
      "\n",
      "             gdpPercap_1992  gdpPercap_1997  gdpPercap_2002  gdpPercap_2007  \n",
      "country                                                                      \n",
      "Australia       23424.76683     26997.93657     30687.75473     34435.36744  \n",
      "New Zealand     18363.32494     21050.41377     23189.80135     25185.00911  \n"
     ]
    }
   ],
   "source": [
    "# Change row names to first column called \"country\"\n",
    "\n",
    "# Saving to the variable \"data\" - this will overwrite the original \"data\"\n",
    "data = pd.read_csv(\"data/gapminder_gdp_oceania.csv\",\n",
    "                   index_col=\"country\")\n",
    "print(data)"
   ]
  },
  {
   "cell_type": "code",
   "execution_count": 25,
   "metadata": {},
   "outputs": [
    {
     "name": "stdout",
     "output_type": "stream",
     "text": [
      "<class 'pandas.core.frame.DataFrame'>\n",
      "Index: 2 entries, Australia to New Zealand\n",
      "Data columns (total 12 columns):\n",
      " #   Column          Non-Null Count  Dtype  \n",
      "---  ------          --------------  -----  \n",
      " 0   gdpPercap_1952  2 non-null      float64\n",
      " 1   gdpPercap_1957  2 non-null      float64\n",
      " 2   gdpPercap_1962  2 non-null      float64\n",
      " 3   gdpPercap_1967  2 non-null      float64\n",
      " 4   gdpPercap_1972  2 non-null      float64\n",
      " 5   gdpPercap_1977  2 non-null      float64\n",
      " 6   gdpPercap_1982  2 non-null      float64\n",
      " 7   gdpPercap_1987  2 non-null      float64\n",
      " 8   gdpPercap_1992  2 non-null      float64\n",
      " 9   gdpPercap_1997  2 non-null      float64\n",
      " 10  gdpPercap_2002  2 non-null      float64\n",
      " 11  gdpPercap_2007  2 non-null      float64\n",
      "dtypes: float64(12)\n",
      "memory usage: 208.0+ bytes\n"
     ]
    }
   ],
   "source": [
    "# The row labels are values from the \"country\" column\n",
    "# \"Index: 2 entries, Australia to New Zealand\"\n",
    "data.info()"
   ]
  },
  {
   "cell_type": "code",
   "execution_count": 26,
   "metadata": {},
   "outputs": [
    {
     "name": "stdout",
     "output_type": "stream",
     "text": [
      "(2, 12)\n"
     ]
    }
   ],
   "source": [
    "print(data.shape)"
   ]
  },
  {
   "cell_type": "markdown",
   "metadata": {},
   "source": [
    "### Subsetting a dataframe\n",
    "\n",
    "* Square brackets\n",
    "    * `[]` - results in Pandas series\n",
    "    * `[[]]` - results in Pandas DataFrame\n",
    "* Slicing\n",
    "    * `[]` - includes **start**, up to and excluding **end** index\n",
    "        * results in a DataFrame with only the rows specified\n",
    "        * only row indices allowed\n",
    "* [`loc`](https://pandas.pydata.org/pandas-docs/version/0.23/generated/pandas.DataFrame.loc.html#pandas.DataFrame.loc)\n",
    "    * label-based, specify rows and columns based on row and column labels\n",
    "        * `[]` - results are a Pandas series\n",
    "        * `[[]]` - results are a DataFrame\n",
    "     * **Note**: contrary to usual python slices, both the start and the stop are included\n",
    "* [`iloc`](https://pandas.pydata.org/pandas-docs/version/0.23/generated/pandas.DataFrame.iloc.html#pandas.DataFrame.iloc)\n",
    "    * similar to square brackets, `iloc` is integer index based. Specify rows and columns by integer index \n",
    "        * `[]` - results are a Pandas series\n",
    "        * `[[]]` - results are a DataFrame\n",
    " \n",
    " \n",
    "#### Additional Resources\n",
    "\n",
    "* Pandas: [indexing and selecting data](https://pandas.pydata.org/pandas-docs/stable/user_guide/indexing.html)"
   ]
  },
  {
   "cell_type": "code",
   "execution_count": 27,
   "metadata": {},
   "outputs": [
    {
     "name": "stdout",
     "output_type": "stream",
     "text": [
      "gdpPercap_1952    10039.59564\n",
      "gdpPercap_1957    10949.64959\n",
      "gdpPercap_1962    12217.22686\n",
      "gdpPercap_1967    14526.12465\n",
      "gdpPercap_1972    16788.62948\n",
      "gdpPercap_1977    18334.19751\n",
      "gdpPercap_1982    19477.00928\n",
      "gdpPercap_1987    21888.88903\n",
      "gdpPercap_1992    23424.76683\n",
      "gdpPercap_1997    26997.93657\n",
      "gdpPercap_2002    30687.75473\n",
      "gdpPercap_2007    34435.36744\n",
      "Name: Australia, dtype: float64\n"
     ]
    }
   ],
   "source": [
    "# Use `loc`, row label, and single brackets to return series\n",
    "print(data.loc[\"Australia\"])"
   ]
  },
  {
   "cell_type": "code",
   "execution_count": 28,
   "metadata": {},
   "outputs": [
    {
     "name": "stdout",
     "output_type": "stream",
     "text": [
      "           gdpPercap_1952  gdpPercap_1957  gdpPercap_1962  gdpPercap_1967  \\\n",
      "country                                                                     \n",
      "Australia     10039.59564     10949.64959     12217.22686     14526.12465   \n",
      "\n",
      "           gdpPercap_1972  gdpPercap_1977  gdpPercap_1982  gdpPercap_1987  \\\n",
      "country                                                                     \n",
      "Australia     16788.62948     18334.19751     19477.00928     21888.88903   \n",
      "\n",
      "           gdpPercap_1992  gdpPercap_1997  gdpPercap_2002  gdpPercap_2007  \n",
      "country                                                                    \n",
      "Australia     23424.76683     26997.93657     30687.75473     34435.36744  \n"
     ]
    }
   ],
   "source": [
    "# Use `loc`, row label, and double brackets to return dataframe\n",
    "print(data.loc[[\"Australia\"]])"
   ]
  },
  {
   "cell_type": "code",
   "execution_count": 29,
   "metadata": {},
   "outputs": [
    {
     "name": "stdout",
     "output_type": "stream",
     "text": [
      "gdpPercap_1952    10039.59564\n",
      "gdpPercap_1957    10949.64959\n",
      "gdpPercap_1962    12217.22686\n",
      "gdpPercap_1967    14526.12465\n",
      "gdpPercap_1972    16788.62948\n",
      "Name: Australia, dtype: float64\n"
     ]
    }
   ],
   "source": [
    "# Use `loc` with single brackets and labels to return series\n",
    "# row label - \"Australia\"\n",
    "# column selection - [start:end], [\"gdpPercap_1952\": \"gdpPercap_1972\"]\n",
    "print(data.loc[\"Australia\", \"gdpPercap_1952\":\"gdpPercap_1972\"])"
   ]
  },
  {
   "cell_type": "code",
   "execution_count": 30,
   "metadata": {},
   "outputs": [
    {
     "name": "stdout",
     "output_type": "stream",
     "text": [
      "gdpPercap_1952    10039.59564\n",
      "gdpPercap_1957    10949.64959\n",
      "gdpPercap_1962    12217.22686\n",
      "gdpPercap_1967    14526.12465\n",
      "gdpPercap_1972    16788.62948\n",
      "Name: Australia, dtype: float64\n"
     ]
    }
   ],
   "source": [
    "# Use `iloc` with single brackets and indices to return series\n",
    "print(data.iloc[0, 0:5])"
   ]
  },
  {
   "cell_type": "code",
   "execution_count": 31,
   "metadata": {},
   "outputs": [
    {
     "name": "stdout",
     "output_type": "stream",
     "text": [
      "             gdpPercap_1952  gdpPercap_1957  gdpPercap_1962  gdpPercap_1967  \\\n",
      "country                                                                       \n",
      "Australia       10039.59564     10949.64959     12217.22686     14526.12465   \n",
      "New Zealand     10556.57566     12247.39532     13175.67800     14463.91893   \n",
      "\n",
      "             gdpPercap_1972  gdpPercap_1977  gdpPercap_1982  gdpPercap_1987  \\\n",
      "country                                                                       \n",
      "Australia       16788.62948     18334.19751     19477.00928     21888.88903   \n",
      "New Zealand     16046.03728     16233.71770     17632.41040     19007.19129   \n",
      "\n",
      "             gdpPercap_1992  gdpPercap_1997  gdpPercap_2002  \n",
      "country                                                      \n",
      "Australia       23424.76683     26997.93657     30687.75473  \n",
      "New Zealand     18363.32494     21050.41377     23189.80135  \n"
     ]
    }
   ],
   "source": [
    "# Use `loc` to select all rows and specific columns to return dataframe\n",
    "print(data.loc[:, \"gdpPercap_1952\":\"gdpPercap_2002\"])"
   ]
  },
  {
   "cell_type": "code",
   "execution_count": 32,
   "metadata": {},
   "outputs": [
    {
     "name": "stdout",
     "output_type": "stream",
     "text": [
      "country           Australia  New Zealand\n",
      "gdpPercap_1952  10039.59564  10556.57566\n",
      "gdpPercap_1957  10949.64959  12247.39532\n",
      "gdpPercap_1962  12217.22686  13175.67800\n",
      "gdpPercap_1967  14526.12465  14463.91893\n",
      "gdpPercap_1972  16788.62948  16046.03728\n",
      "gdpPercap_1977  18334.19751  16233.71770\n",
      "gdpPercap_1982  19477.00928  17632.41040\n",
      "gdpPercap_1987  21888.88903  19007.19129\n",
      "gdpPercap_1992  23424.76683  18363.32494\n",
      "gdpPercap_1997  26997.93657  21050.41377\n",
      "gdpPercap_2002  30687.75473  23189.80135\n",
      "gdpPercap_2007  34435.36744  25185.00911\n",
      "(12, 2)\n",
      "Index(['Australia', 'New Zealand'], dtype='object', name='country')\n"
     ]
    }
   ],
   "source": [
    "# Transpose data - rows become columns and columns become rows\n",
    "print(data.T)\n",
    "print(data.T.shape)\n",
    "print(data.T.columns)\n",
    "\n",
    "# Use `data.T` for each plot OR it can be saved into a new variable\n",
    "data_t = data.T"
   ]
  },
  {
   "cell_type": "code",
   "execution_count": 33,
   "metadata": {},
   "outputs": [
    {
     "name": "stdout",
     "output_type": "stream",
     "text": [
      "AxesSubplot(0.125,0.125;0.775x0.755)\n"
     ]
    },
    {
     "data": {
      "image/png": "[encoded data removed]",
      "text/plain": [
       "<Figure size 432x288 with 1 Axes>"
      ]
     },
     "metadata": {
      "needs_background": "light"
     },
     "output_type": "display_data"
    }
   ],
   "source": [
    "print(data.T.plot.scatter(x = 'Australia', y = 'New Zealand'))"
   ]
  },
  {
   "cell_type": "code",
   "execution_count": 34,
   "metadata": {},
   "outputs": [
    {
     "name": "stdout",
     "output_type": "stream",
     "text": [
      "gdpPercap_1952    10556.57566\n",
      "gdpPercap_1957    12247.39532\n",
      "gdpPercap_1962    13175.67800\n",
      "gdpPercap_1967    14463.91893\n",
      "gdpPercap_1972    16046.03728\n",
      "gdpPercap_1977    16233.71770\n",
      "gdpPercap_1982    17632.41040\n",
      "gdpPercap_1987    19007.19129\n",
      "gdpPercap_1992    18363.32494\n",
      "gdpPercap_1997    21050.41377\n",
      "gdpPercap_2002    23189.80135\n",
      "gdpPercap_2007    25185.00911\n",
      "Name: New Zealand, dtype: float64\n"
     ]
    }
   ],
   "source": [
    "# Use `loc` with double brackets to return dataframe\n",
    "print(data.T.loc[:, \"New Zealand\"])"
   ]
  },
  {
   "cell_type": "code",
   "execution_count": 35,
   "metadata": {},
   "outputs": [
    {
     "data": {
      "text/plain": [
       "<function matplotlib.pyplot.show(close=None, block=None)>"
      ]
     },
     "execution_count": 35,
     "metadata": {},
     "output_type": "execute_result"
    },
    {
     "data": {
      "image/png": "[encoded data removed]",
      "text/plain": [
       "<Figure size 432x288 with 1 Axes>"
      ]
     },
     "metadata": {
      "needs_background": "light"
     },
     "output_type": "display_data"
    }
   ],
   "source": [
    "plt.plot(data.T.loc[:, \"New Zealand\"])\n",
    "\n",
    "plt.show"
   ]
  },
  {
   "cell_type": "code",
   "execution_count": 36,
   "metadata": {},
   "outputs": [
    {
     "data": {
      "image/png": "[encoded data removed]",
      "text/plain": [
       "<Figure size 432x288 with 1 Axes>"
      ]
     },
     "metadata": {
      "needs_background": "light"
     },
     "output_type": "display_data"
    }
   ],
   "source": [
    "plt.plot(data.T.loc[:, \"New Zealand\"])\n",
    "\n",
    "plt.ylabel('GDP per capita')\n",
    "plt.xlabel(\"Years\")\n",
    "plt.title(\"New Zealand\")\n",
    "\n",
    "plt.xticks(rotation = 45)\n",
    "\n",
    "plt.show()"
   ]
  },
  {
   "cell_type": "markdown",
   "metadata": {},
   "source": [
    "#### Strip excess text from row labels to make the plot more readable"
   ]
  },
  {
   "cell_type": "code",
   "execution_count": 37,
   "metadata": {},
   "outputs": [],
   "source": [
    "# Convert year values to integers, saving results back to dataframe\n",
    "years = data.columns.str.strip('gdpPercap_')\n",
    "data.columns = years.astype(int)"
   ]
  },
  {
   "cell_type": "code",
   "execution_count": 38,
   "metadata": {},
   "outputs": [
    {
     "name": "stdout",
     "output_type": "stream",
     "text": [
      "                    1952         1957         1962         1967         1972  \\\n",
      "country                                                                        \n",
      "Australia    10039.59564  10949.64959  12217.22686  14526.12465  16788.62948   \n",
      "New Zealand  10556.57566  12247.39532  13175.67800  14463.91893  16046.03728   \n",
      "\n",
      "                    1977         1982         1987         1992         1997  \\\n",
      "country                                                                        \n",
      "Australia    18334.19751  19477.00928  21888.88903  23424.76683  26997.93657   \n",
      "New Zealand  16233.71770  17632.41040  19007.19129  18363.32494  21050.41377   \n",
      "\n",
      "                    2002         2007  \n",
      "country                                \n",
      "Australia    30687.75473  34435.36744  \n",
      "New Zealand  23189.80135  25185.00911  \n",
      "country    Australia  New Zealand\n",
      "1952     10039.59564  10556.57566\n",
      "1957     10949.64959  12247.39532\n",
      "1962     12217.22686  13175.67800\n",
      "1967     14526.12465  14463.91893\n",
      "1972     16788.62948  16046.03728\n",
      "1977     18334.19751  16233.71770\n",
      "1982     19477.00928  17632.41040\n",
      "1987     21888.88903  19007.19129\n",
      "1992     23424.76683  18363.32494\n",
      "1997     26997.93657  21050.41377\n",
      "2002     30687.75473  23189.80135\n",
      "2007     34435.36744  25185.00911\n"
     ]
    }
   ],
   "source": [
    "print(data)\n",
    "print(data.T)"
   ]
  },
  {
   "cell_type": "code",
   "execution_count": 39,
   "metadata": {},
   "outputs": [
    {
     "data": {
      "image/png": "[encoded data removed]",
      "text/plain": [
       "<Figure size 432x288 with 1 Axes>"
      ]
     },
     "metadata": {
      "needs_background": "light"
     },
     "output_type": "display_data"
    }
   ],
   "source": [
    "plt.plot(data.T.loc[:, \"New Zealand\"])\n",
    "\n",
    "plt.ylabel('GDP per capita')\n",
    "plt.xlabel(\"Year\")\n",
    "plt.title(\"New Zealand\")\n",
    "\n",
    "plt.show()"
   ]
  },
  {
   "cell_type": "markdown",
   "metadata": {},
   "source": [
    "### Save Your Work\n",
    "\n",
    "Saving a Pandas DataFrame as a csv\n",
    "* [`DataFrame.to_csv`](https://pandas.pydata.org/docs/reference/api/pandas.DataFrame.to_csv.html)\n",
    "    * `data.T.to_csv('my_data.csv')\n",
    "\n"
   ]
  },
  {
   "cell_type": "code",
   "execution_count": 40,
   "metadata": {},
   "outputs": [
    {
     "data": {
      "text/plain": [
       "'/Users/stacey/Data/GitHub/Data-Visualization-in-Python'"
      ]
     },
     "execution_count": 40,
     "metadata": {},
     "output_type": "execute_result"
    }
   ],
   "source": [
    "# Determine your current working directory using the `os` module\n",
    "# If you do not provide a path when the a file is saved then\n",
    "# this will be the directory it is saved in\n",
    "import os\n",
    "os.getcwd()"
   ]
  },
  {
   "cell_type": "code",
   "execution_count": 41,
   "metadata": {},
   "outputs": [],
   "source": [
    "# Save dataframe as a csv file\n",
    "data.T.to_csv('my_data.csv')"
   ]
  },
  {
   "cell_type": "code",
   "execution_count": 42,
   "metadata": {},
   "outputs": [],
   "source": [
    "# Save dataframe as a csv file\n",
    "# Do not include \n",
    "data.T.to_csv('my_data_non.csv', header = False, index = False)"
   ]
  },
  {
   "cell_type": "code",
   "execution_count": 43,
   "metadata": {},
   "outputs": [
    {
     "data": {
      "image/png": "[encoded data removed]",
      "text/plain": [
       "<Figure size 432x288 with 1 Axes>"
      ]
     },
     "metadata": {
      "needs_background": "light"
     },
     "output_type": "display_data"
    }
   ],
   "source": [
    "plt.plot(data.T.loc[:, \"New Zealand\"])\n",
    "\n",
    "plt.ylabel('GDP per capita')\n",
    "plt.xlabel(\"Year\")\n",
    "plt.title(\"New Zealand\")\n",
    "\n",
    "# Save image in .png format in current working directory\n",
    "plt.savefig('NZ_plot')"
   ]
  },
  {
   "cell_type": "markdown",
   "metadata": {},
   "source": [
    "## Comparison Operators\n",
    "\n",
    "`<`   Strictly less than  \n",
    "`<=`  Less than or equal to  \n",
    "`>`   Strictly greater than  \n",
    "`>=`  Greater than or equal to  \n",
    "`==`  Equal  \n",
    "`!=`  Does not equal  "
   ]
  },
  {
   "cell_type": "code",
   "execution_count": 44,
   "metadata": {},
   "outputs": [
    {
     "name": "stdout",
     "output_type": "stream",
     "text": [
      "True\n",
      "False\n"
     ]
    }
   ],
   "source": [
    "# Examples of comparison operators - integers and floats\n",
    "print(2 == (1 + 1))\n",
    "3 < 4\n",
    "\n",
    "# The equal sign must follow any other operator\n",
    "# Correct: `<=`\n",
    "# Wrong: `=<`\n",
    "3 <= 4\n",
    "\n",
    "# Use values stored in a variable\n",
    "x = -3 * 6\n",
    "print(x >= 10)\n"
   ]
  },
  {
   "cell_type": "code",
   "execution_count": 45,
   "metadata": {},
   "outputs": [
    {
     "name": "stdout",
     "output_type": "stream",
     "text": [
      "False\n",
      "True\n",
      "True\n",
      "False\n"
     ]
    }
   ],
   "source": [
    "# Examples of comparison operators - booleans\n",
    "print(False != False)\n",
    "print(True != False)\n",
    "print(True == 1)\n",
    "print(True == 5)"
   ]
  },
  {
   "cell_type": "code",
   "execution_count": 46,
   "metadata": {},
   "outputs": [
    {
     "name": "stdout",
     "output_type": "stream",
     "text": [
      "True\n",
      "True\n",
      "True\n",
      "False\n"
     ]
    }
   ],
   "source": [
    "# Examples of comparison operators - strings\n",
    "print(\"Python\" != \"python\")\n",
    "print(\"python\" == \"python\")\n",
    "\n",
    "# Here, Python determines the relationship based on alphabetical order\n",
    "print(\"alpha\" <= \"beta\")\n",
    "print(\"zeta\" <= \"omega\")"
   ]
  },
  {
   "cell_type": "markdown",
   "metadata": {
    "tags": []
   },
   "source": [
    "### Boolean operators\n",
    "\n",
    "`and`\n",
    "\n",
    "* True and True = True  \n",
    "* True and False = False  \n",
    "* False and True = False  \n",
    "* False and False = False  \n",
    "    \n",
    "`or`\n",
    "\n",
    "* True or True = True  \n",
    "* True or False = True  \n",
    "* False or True = True  \n",
    "* False or False = False  \n",
    "    \n",
    "`not`\n",
    "\n",
    "* `not True` is False  \n",
    "* `not False` is True  "
   ]
  },
  {
   "cell_type": "code",
   "execution_count": 47,
   "metadata": {},
   "outputs": [
    {
     "data": {
      "text/plain": [
       "True"
      ]
     },
     "execution_count": 47,
     "metadata": {},
     "output_type": "execute_result"
    }
   ],
   "source": [
    "x = 5\n",
    "x > 2 and x < 10\n",
    "# True and True is True"
   ]
  },
  {
   "cell_type": "code",
   "execution_count": 48,
   "metadata": {},
   "outputs": [
    {
     "data": {
      "text/plain": [
       "False"
      ]
     },
     "execution_count": 48,
     "metadata": {},
     "output_type": "execute_result"
    }
   ],
   "source": [
    "x = 5\n",
    "x > 2 and x < 5\n",
    "# True and False is False"
   ]
  },
  {
   "cell_type": "code",
   "execution_count": 49,
   "metadata": {},
   "outputs": [
    {
     "data": {
      "text/plain": [
       "True"
      ]
     },
     "execution_count": 49,
     "metadata": {},
     "output_type": "execute_result"
    }
   ],
   "source": [
    "a = 8.5\n",
    "a > 10 or a < 15\n",
    "# False or True is True"
   ]
  },
  {
   "cell_type": "markdown",
   "metadata": {},
   "source": [
    "### Filtering Dataframes\n",
    "\n",
    "It is helpful to filter data to reduce the amount you are working with and gain a better understanding of what the data is saying. To do this, you can filter based on a comparison. \n",
    "\n",
    "\n",
    "1. Select columns\n",
    "    * Subset a column of data to set a condition to. Here we use \"Australia\"\n",
    "    * `data.T[\"Australia\"]`\n",
    "2. Do a comparison on a column\n",
    "    * Set a condition for all rows that have a value of less than 20,000 to be True - this will return a boolean array determining which rows meet that condition.\n",
    "    * `data.T[\"Australia\"] < 20000`\n",
    "3. Use the result to do selection on dataframe\n",
    "    * Filter all of the data, keeping only the rows that were determined to be true\n",
    "        * One line: \n",
    "            * `data.T[data.T[\"Australia\"] < 20000]`\n",
    "        * Two lines:\n",
    "            * `my_var = data.T[\"Australia\"] < 20000`\n",
    "            * `data.T[my_var]`\n"
   ]
  },
  {
   "cell_type": "code",
   "execution_count": 50,
   "metadata": {},
   "outputs": [
    {
     "name": "stdout",
     "output_type": "stream",
     "text": [
      "country    Australia  New Zealand\n",
      "1952     10039.59564  10556.57566\n",
      "1957     10949.64959  12247.39532\n",
      "1962     12217.22686  13175.67800\n",
      "1967     14526.12465  14463.91893\n",
      "1972     16788.62948  16046.03728\n",
      "1977     18334.19751  16233.71770\n",
      "1982     19477.00928  17632.41040\n",
      "1987     21888.88903  19007.19129\n",
      "1992     23424.76683  18363.32494\n",
      "1997     26997.93657  21050.41377\n",
      "2002     30687.75473  23189.80135\n",
      "2007     34435.36744  25185.00911\n"
     ]
    }
   ],
   "source": [
    "# Example of transposed data\n",
    "print(data.T)"
   ]
  },
  {
   "cell_type": "code",
   "execution_count": 51,
   "metadata": {},
   "outputs": [
    {
     "data": {
      "text/plain": [
       "1952     True\n",
       "1957     True\n",
       "1962     True\n",
       "1967     True\n",
       "1972     True\n",
       "1977     True\n",
       "1982     True\n",
       "1987    False\n",
       "1992    False\n",
       "1997    False\n",
       "2002    False\n",
       "2007    False\n",
       "Name: Australia, dtype: bool"
      ]
     },
     "execution_count": 51,
     "metadata": {},
     "output_type": "execute_result"
    }
   ],
   "source": [
    "# 1. Select columns\n",
    "data.T[\"Australia\"] < 20000"
   ]
  },
  {
   "cell_type": "code",
   "execution_count": 52,
   "metadata": {},
   "outputs": [
    {
     "name": "stdout",
     "output_type": "stream",
     "text": [
      "1952     True\n",
      "1957     True\n",
      "1962     True\n",
      "1967     True\n",
      "1972     True\n",
      "1977     True\n",
      "1982     True\n",
      "1987    False\n",
      "1992    False\n",
      "1997    False\n",
      "2002    False\n",
      "2007    False\n",
      "Name: Australia, dtype: bool\n"
     ]
    }
   ],
   "source": [
    "# 2. Do a comparison on a column\n",
    "low = data.T[\"Australia\"] < 20000\n",
    "print(low)"
   ]
  },
  {
   "cell_type": "code",
   "execution_count": 53,
   "metadata": {},
   "outputs": [
    {
     "name": "stdout",
     "output_type": "stream",
     "text": [
      "country    Australia  New Zealand\n",
      "1952     10039.59564  10556.57566\n",
      "1957     10949.64959  12247.39532\n",
      "1962     12217.22686  13175.67800\n",
      "1967     14526.12465  14463.91893\n",
      "1972     16788.62948  16046.03728\n",
      "1977     18334.19751  16233.71770\n",
      "1982     19477.00928  17632.41040\n"
     ]
    }
   ],
   "source": [
    "# 3. Use the result to do selection on dataframe\n",
    "print(data.T[low])"
   ]
  },
  {
   "cell_type": "code",
   "execution_count": 54,
   "metadata": {},
   "outputs": [
    {
     "data": {
      "image/png": "[encoded data removed]",
      "text/plain": [
       "<Figure size 432x288 with 1 Axes>"
      ]
     },
     "metadata": {
      "needs_background": "light"
     },
     "output_type": "display_data"
    }
   ],
   "source": [
    "# Plot filtered data\n",
    "data.T[low].plot()\n",
    "\n",
    "plt.ylabel('GDP per capita')\n",
    "plt.xlabel(\"Year\")\n",
    "plt.title(\"My Best Plot Yet\")\n",
    "\n",
    "plt.legend()\n",
    "plt.show()"
   ]
  },
  {
   "cell_type": "markdown",
   "metadata": {},
   "source": [
    "### Datasets in Python\n",
    "\n",
    "An alternative to using downloaded or your own data is to use readily available datasets. [THIS ARTICLE](https://towardsdatascience.com/datasets-in-python-425475a20eb1) provides a few options to access the data."
   ]
  },
  {
   "cell_type": "code",
   "execution_count": null,
   "metadata": {},
   "outputs": [],
   "source": []
  }
 ],
 "metadata": {
  "kernelspec": {
   "display_name": "Python 3 (ipykernel)",
   "language": "python",
   "name": "python3"
  },
  "language_info": {
   "codemirror_mode": {
    "name": "ipython",
    "version": 3
   },
   "file_extension": ".py",
   "mimetype": "text/x-python",
   "name": "python",
   "nbconvert_exporter": "python",
   "pygments_lexer": "ipython3",
   "version": "3.10.1"
  }
 },
 "nbformat": 4,
 "nbformat_minor": 4
}
